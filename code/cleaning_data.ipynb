{
 "cells": [
  {
   "cell_type": "code",
   "execution_count": 1,
   "id": "3e7d95ba",
   "metadata": {},
   "outputs": [
    {
     "name": "stderr",
     "output_type": "stream",
     "text": [
      "/usr/local/lib/python3.6/dist-packages/IPython/core/interactiveshell.py:3072: DtypeWarning: Columns (79,80,81,109,110,111,112,113,114,115,116,117,118,119,121,122,137,139,141,142,143,144,145,146,147,148,149,150,151,152,153,154,155,158,159,160,161,162,163,164,165,166,167,168,169,170,171,172,173,174,175,176,177,178,179,180,181,182,183,184,185,186,187,188,189,190,192,193,194,195,196,197,198,199,200,201,202,203,204,205,206,207,208,209,210,211,212,213,214,215,216,217,218,219,220,221,222,223,224,225,226,227,228,229,230,231,232,233,234,235,236,237,238,239,240,241,242,243,244,245,246,247,248,249,250,251,252,253,254,255,256,257,258,259,260,261,262,263,264,265,266,267,268,269,270,271,272,273,274,275,276,277,278,279,280,281,282,283,284,285,286,287,288,289,290,291,292,293,294,295,296,297,298,299,300,301,302,303,304,305,306,307,308,309,310,311,312,313,316,317,318,319,320,321,322,323,324,325,326,327,328,329,330,331,332,333,334,335,336,337,338,339) have mixed types. Specify dtype option on import or set low_memory=False.\n",
      "  interactivity=interactivity, compiler=compiler, result=result)\n"
     ]
    }
   ],
   "source": [
    "# import packages\n",
    "import pandas as pd\n",
    "import numpy as np\n",
    "from decimal import Decimal\n",
    "import locale\n",
    "\n",
    "# read the data\n",
    "df = pd.read_csv('../data/all_data.csv',encoding = \"ISO-8859–1\")\n"
   ]
  },
  {
   "cell_type": "markdown",
   "id": "f8bef3b0",
   "metadata": {},
   "source": [
    "Data"
   ]
  },
  {
   "cell_type": "code",
   "execution_count": 2,
   "id": "4cb1728c",
   "metadata": {},
   "outputs": [
    {
     "name": "stdout",
     "output_type": "stream",
     "text": [
      "Listing Number - 0%\n",
      "Type of Property - 0%\n",
      "Listing Date - 1%\n",
      "Floor Size - 38%\n",
      "Levies - 52%\n",
      "Rates and Taxes - 32%\n",
      "Pets Allowed - 46%\n",
      "Bedrooms - 10%\n",
      "Bathrooms - 14%\n",
      "Office - 93%\n",
      "Reception Rooms - 86%\n",
      "Lounge - 69%\n",
      "Garage - 52%\n",
      "Garden - 71%\n",
      "price - 0%\n",
      "link - 100%\n",
      "description - 100%\n",
      "Street Address - 66%\n",
      "Erf Size - 41%\n",
      "Kitchen - 56%\n",
      "Pool - 83%\n",
      "Lifestyle - 82%\n",
      "Bedroom 1 - 68%\n",
      "Bedroom 2 - 68%\n",
      "Bedroom 3 - 78%\n",
      "Bedroom 4 - 92%\n",
      "Dining Room - 77%\n",
      "Entrance Hall - 92%\n",
      "Rooms - 90%\n",
      "Security - 69%\n",
      "Special Featuress - 95%\n",
      "Special Features 1 - 95%\n",
      "Special Features 2 - 96%\n",
      "Description - 100%\n",
      "No Transfer Duty - 93%\n",
      "Coverage - 91%\n",
      "Bathroom 1 - 80%\n",
      "Bathroom 2 - 80%\n",
      "Bathroom 3 - 92%\n",
      "Braai Room - 95%\n",
      "Gardens - 91%\n",
      "Style - 90%\n",
      "Standalone Building - 91%\n",
      "Nearby Public Transport - 92%\n",
      "Internet Access - 96%\n",
      "Garage 1 - 93%\n",
      "Garage 2 - 93%\n",
      "Window - 90%\n",
      "Office/study - 95%\n",
      "Garage 3 - 99%\n",
      "Price per mÃÂ² - 73%\n",
      "Parking - 51%\n",
      "Zoning - 99%\n",
      "Kitchens - 64%\n",
      "Domestic Rooms - 91%\n",
      "Lounges - 70%\n",
      "Dining Rooms - 80%\n",
      "Special Feature - 98%\n",
      "Bathroom - 90%\n",
      "Facing - 90%\n",
      "Roof - 88%\n",
      "Wall - 87%\n",
      "Family/TV Room - 91%\n",
      "Bedroom 5 - 97%\n",
      "Bedroom 6 - 99%\n",
      "Kitchen 1 - 99%\n",
      "Kitchen 2 - 99%\n",
      "Lounge 1 - 98%\n",
      "Lounge 2 - 98%\n",
      "Dining Room 1 - 100%\n",
      "Dining Room 2 - 100%\n",
      "Kitchen 3 - 100%\n",
      "Bedroom 7 - 99%\n",
      "Bedroom 8 - 99%\n",
      "Bedroom 9 - 100%\n",
      "Bathroom 4 - 97%\n",
      "Bathroom 5 - 99%\n",
      "Bathroom 6 - 99%\n",
      "Bathroom 7 - 100%\n",
      "Bathroom 8 - 100%\n",
      "Bathroom 9 - 100%\n",
      "Bathroom 10 - 100%\n",
      "Other - 92%\n",
      "Special Features 3 - 97%\n",
      "Family/TV Rooms - 96%\n",
      "Parking 1 - 94%\n",
      "Parking 2 - 95%\n",
      "Parking 3 - 98%\n",
      "Parking 4 - 99%\n",
      "Pools - 97%\n",
      "Outbuilding - 94%\n",
      "Flatlet - 99%\n",
      "Floor Number - 99%\n",
      "Number of floors - 99%\n",
      "Wheelchair Accessible - 96%\n",
      "Generator - 97%\n",
      "Temperature Control - 95%\n",
      "Special Levy - 97%\n",
      "Bedroom - 92%\n",
      "Furnished - 97%\n",
      "Outside Toilets - 99%\n",
      "Braai Rooms - 99%\n",
      "Special Features - 95%\n",
      "Bar - 99%\n",
      "Other 1 - 98%\n",
      "Other 2 - 98%\n",
      "Bars - 100%\n",
      "Entrance Halls - 98%\n",
      "Bedroom 10 - 100%\n",
      "Bedroom 11 - 100%\n",
      "Bedroom 12 - 100%\n",
      "Bedroom 13 - 100%\n",
      "Bedroom 14 - 100%\n",
      "Bedroom 15 - 100%\n",
      "Bedroom 16 - 100%\n",
      "Bedroom 17 - 100%\n",
      "Bedroom 18 - 100%\n",
      "Bedroom 19 - 100%\n",
      "Bathroom 11 - 100%\n",
      "Bathroom 12 - 100%\n",
      "Loft - 100%\n",
      "Family/TV Room 1 - 100%\n",
      "Family/TV Room 2 - 100%\n",
      "Size of Outbuildings - 99%\n",
      "Office/studies - 97%\n",
      "Other 3 - 99%\n",
      "Floor - 97%\n",
      "Special Features 4 - 98%\n",
      "Special Features 5 - 99%\n",
      "Outbuildings - 97%\n",
      "Outbuilding 1 - 98%\n",
      "Outbuilding 2 - 98%\n",
      "Common Toilets - 100%\n",
      "Age - 96%\n",
      "Domestic Bathrooms - 99%\n",
      "Secure Parking - 98%\n",
      "Temperature Controls - 100%\n",
      "Special Features 6 - 100%\n",
      "Garage 4 - 99%\n",
      "Second House - 100%\n",
      "Outbuilding 3 - 99%\n",
      "Security 1 - 100%\n",
      "Security 2 - 100%\n",
      "Security 3 - 100%\n",
      "Security 4 - 100%\n",
      "Security 5 - 100%\n",
      "Security 6 - 100%\n",
      "Security 7 - 100%\n",
      "Security 8 - 100%\n",
      "Security 9 - 100%\n",
      "Outbuilding 4 - 100%\n",
      "Outbuilding 5 - 100%\n",
      "Outbuilding 6 - 100%\n",
      "Flat Description - 100%\n",
      "Special Features 7 - 100%\n",
      "Garden 1 - 100%\n",
      "Other 4 - 100%\n",
      "Parking 5 - 99%\n",
      "Height Restriction - 100%\n",
      "Other 5 - 100%\n",
      "Other 6 - 100%\n",
      "Lease Period - 100%\n",
      "Deposit Requirements - 100%\n",
      "Parking 6 - 100%\n",
      "Parking 7 - 100%\n",
      "Parking 8 - 100%\n",
      "Parking 9 - 100%\n",
      "Parking 10 - 100%\n",
      "Lounge 3 - 100%\n",
      "Garage 5 - 100%\n",
      "Garage 6 - 100%\n",
      "Special Features 8 - 100%\n",
      "Braai Room 1 - 100%\n",
      "Braai Room 2 - 100%\n",
      "Braai Room 3 - 100%\n",
      "Braai Room 4 - 100%\n",
      "Braai Room 5 - 100%\n",
      "Braai Room 6 - 100%\n",
      "Braai Room 7 - 100%\n",
      "Braai Room 8 - 100%\n",
      "Parking 11 - 100%\n",
      "Parking 12 - 100%\n",
      "Office 1 - 100%\n",
      "Office 2 - 100%\n",
      "Price Per Parking - 100%\n",
      "Pool 1 - 100%\n",
      "Pool 2 - 100%\n",
      "Special Features 9 - 100%\n",
      "Dining Room 3 - 100%\n",
      "Parking 13 - 100%\n",
      "Parking 14 - 100%\n",
      "Lofts - 100%\n",
      "Special Features 10 - 100%\n",
      "Special Features 11 - 100%\n",
      "Garden 2 - 100%\n",
      "Entrance Hall 1 - 100%\n",
      "Entrance Hall 2 - 100%\n",
      "Garage 7 - 100%\n",
      "Garage 8 - 100%\n",
      "Kitchen 4 - 100%\n",
      "Outbuilding 7 - 100%\n",
      "Other 7 - 100%\n",
      "Lounge 4 - 100%\n",
      "Bedroom 20 - 100%\n",
      "Bedroom 21 - 100%\n",
      "Bedroom 22 - 100%\n",
      "Bedroom 23 - 100%\n",
      "Bedroom 24 - 100%\n",
      "Kitchen 5 - 100%\n",
      "Kitchen 6 - 100%\n",
      "Kitchen 7 - 100%\n",
      "Kitchen 8 - 100%\n",
      "Kitchen 9 - 100%\n",
      "Kitchen 10 - 100%\n",
      "Kitchen 11 - 100%\n",
      "Kitchen 12 - 100%\n",
      "Lounge 5 - 100%\n",
      "Lounge 6 - 100%\n",
      "Lounge 7 - 100%\n",
      "Lounge 8 - 100%\n",
      "Lounge 9 - 100%\n",
      "Lounge 10 - 100%\n",
      "Lounge 11 - 100%\n",
      "Parking 15 - 100%\n",
      "Parking 16 - 100%\n",
      "Parking 17 - 100%\n",
      "Parking 18 - 100%\n",
      "Parking 19 - 100%\n",
      "Parking 20 - 100%\n",
      "Parking 21 - 100%\n",
      "Parking 22 - 100%\n",
      "Parking 23 - 100%\n",
      "Parking 24 - 100%\n",
      "Parking 25 - 100%\n",
      "Parking 26 - 100%\n",
      "Parking 27 - 100%\n",
      "Parking 28 - 100%\n",
      "Parking 29 - 100%\n",
      "Parking 30 - 100%\n",
      "Parking 31 - 100%\n",
      "Parking 32 - 100%\n",
      "Parking 33 - 100%\n",
      "Parking 34 - 100%\n",
      "Parking 35 - 100%\n",
      "Parking 36 - 100%\n",
      "Parking 37 - 100%\n",
      "Parking 38 - 100%\n",
      "Parking 39 - 100%\n",
      "Parking 40 - 100%\n",
      "Parking 41 - 100%\n",
      "Parking 42 - 100%\n",
      "Parking 43 - 100%\n",
      "Parking 44 - 100%\n",
      "Parking 45 - 100%\n",
      "Parking 46 - 100%\n",
      "Parking 47 - 100%\n",
      "Parking 48 - 100%\n",
      "Parking 49 - 100%\n",
      "Parking 50 - 100%\n",
      "Temperature Control 1 - 100%\n",
      "Office 3 - 100%\n",
      "Other 8 - 100%\n",
      "Garage 9 - 100%\n",
      "Special Features 12 - 100%\n",
      "Office 4 - 100%\n",
      "Outbuilding 8 - 100%\n",
      "Outbuilding 9 - 100%\n",
      "Bathroom 13 - 100%\n",
      "Bathroom 14 - 100%\n",
      "Bathroom 15 - 100%\n",
      "Entrance Hall 3 - 100%\n",
      "Special Features 13 - 100%\n",
      "Special Features 14 - 100%\n",
      "Special Features 15 - 100%\n",
      "Special Features 16 - 100%\n",
      "Special Features 17 - 100%\n",
      "Special Features 18 - 100%\n",
      "Special Features 19 - 100%\n",
      "Special Features 20 - 100%\n",
      "Bathroom 16 - 100%\n",
      "Bar 1 - 100%\n",
      "Bar 2 - 100%\n",
      "Bar 3 - 100%\n",
      "Bar 4 - 100%\n",
      "Garden 3 - 100%\n",
      "Garden 4 - 100%\n",
      "Dining Room 4 - 100%\n",
      "Dining Room 5 - 100%\n",
      "Dining Room 6 - 100%\n",
      "Dining Room 7 - 100%\n",
      "Dining Room 8 - 100%\n",
      "Dining Room 9 - 100%\n",
      "Dining Room 10 - 100%\n",
      "Dining Room 11 - 100%\n",
      "Pool 3 - 100%\n",
      "Outbuilding 10 - 100%\n",
      "Pool 4 - 100%\n",
      "Temperature Control 2 - 100%\n",
      "Office 5 - 100%\n",
      "Office 6 - 100%\n",
      "Office 7 - 100%\n",
      "Office 8 - 100%\n",
      "Office 9 - 100%\n",
      "Office 10 - 100%\n",
      "Office 11 - 100%\n",
      "Office 12 - 100%\n",
      "Office 13 - 100%\n",
      "Temperature Control 3 - 100%\n",
      "Family/TV Room 3 - 100%\n",
      "Family/TV Room 4 - 100%\n",
      "Family/TV Room 5 - 100%\n",
      "Family/TV Room 6 - 100%\n",
      "Entrance Hall 4 - 100%\n",
      "Price per mÃâÃÂ² - 100%\n",
      "Price per mÃÆÃâÃÂ¢Ã¢âÂ¬Ã",
      "Â¡ÃÆÃ¢â¬Å¡ÃâÃÂ² - 100%\n",
      "Price per mÃÆÃâÃâ Ã¢â¬â¢ÃÆÃ¢â¬Â ÃÂ¢Ã¢âÂ¬Ã¢âÂ¢ÃÆÃâÃâÃÂ¢ÃÆÃÂ¢ÃÂ¢Ã¢âÂ¬Ã",
      "Â¡ÃâÃÂ¬ÃÆÃ¢â¬Â¦ÃâÃÂ¡ÃÆÃâÃâ Ã¢â¬â¢ÃÆÃÂ¢ÃÂ¢Ã¢â¬Å¡ÃÂ¬Ãâ¦ÃÂ¡ÃÆÃâÃÂ¢Ã¢âÂ¬Ã",
      "Â¡ÃÆÃ¢â¬Å¡ÃâÃÂ² - 100%\n",
      "Loft 1 - 100%\n",
      "Loft 2 - 100%\n",
      "Loft 3 - 100%\n",
      "Loft 4 - 100%\n",
      "Bedroom 25 - 100%\n",
      "Bedroom 26 - 100%\n",
      "Bedroom 27 - 100%\n",
      "Bedroom 28 - 100%\n",
      "Bedroom 29 - 100%\n",
      "Bedroom 30 - 100%\n",
      "Bedroom 31 - 100%\n",
      "Bedroom 32 - 100%\n",
      "Bedroom 33 - 100%\n",
      "Bedroom 34 - 100%\n",
      "Bedroom 35 - 100%\n",
      "Bedroom 36 - 100%\n",
      "Bedroom 37 - 100%\n",
      "Bedroom 38 - 100%\n",
      "Bedroom 39 - 100%\n",
      "Bedroom 40 - 100%\n",
      "Bedroom 41 - 100%\n",
      "Bedroom 42 - 100%\n",
      "Other 9 - 100%\n",
      "Other 10 - 100%\n"
     ]
    }
   ],
   "source": [
    "for col in df.columns:\n",
    "    pct_missing = np.mean(df[col].isnull())\n",
    "    print('{} - {}%'.format(col, round(pct_missing*100)))"
   ]
  },
  {
   "cell_type": "code",
   "execution_count": 3,
   "id": "98a1a77a",
   "metadata": {},
   "outputs": [
    {
     "name": "stdout",
     "output_type": "stream",
     "text": [
      "Listing Number - 0%\n",
      "Type of Property - 0%\n",
      "Listing Date - 1%\n",
      "price - 0%\n"
     ]
    }
   ],
   "source": [
    "for col in df.columns:\n",
    "    pct_missing = np.mean(df[col].isnull())\n",
    "    if(pct_missing*100<2):\n",
    "        print('{} - {}%'.format(col, round(pct_missing*100)))"
   ]
  },
  {
   "cell_type": "markdown",
   "id": "5ed8870c",
   "metadata": {},
   "source": []
  },
  {
   "cell_type": "markdown",
   "id": "59a0fa41",
   "metadata": {},
   "source": [
    "Dining Room"
   ]
  },
  {
   "cell_type": "code",
   "execution_count": 4,
   "id": "eea72f9a",
   "metadata": {},
   "outputs": [],
   "source": [
    "df['Dining Room']=df['Dining Room'].astype(str)+'_'+df['Dining Rooms'].astype(str)\n",
    "df['Dining Room'] = df['Dining Room'].replace(to_replace ='nan_nan',value ='', regex=True)\n",
    "df['Dining Room'] = df['Dining Room'].replace(to_replace ='nan_',value ='', regex=True)\n",
    "df['Dining Room'] = df['Dining Room'].replace(to_replace ='_nan',value ='', regex=True)\n",
    "df['Dining Room'] = df['Dining Room'].replace(to_replace ='',value ='null', regex=True)"
   ]
  },
  {
   "cell_type": "code",
   "execution_count": 5,
   "id": "62605732",
   "metadata": {},
   "outputs": [],
   "source": [
    "to_fill = 1\n",
    "df['Dining Room'] = df['Dining Room'].replace(to_replace ='null',value =0.0, regex=True)\n",
    "df['Dining Room'] = pd.to_numeric(df['Dining Room'], errors='coerce')\n",
    "df['Dining Room'].fillna(int(to_fill),inplace = True)"
   ]
  },
  {
   "cell_type": "markdown",
   "id": "a2a3af1b",
   "metadata": {},
   "source": [
    "Bathroom"
   ]
  },
  {
   "cell_type": "code",
   "execution_count": 6,
   "id": "80f95f98",
   "metadata": {},
   "outputs": [],
   "source": [
    "df['Bathroom'] = pd.to_numeric(df['Bathroom'], errors='coerce')\n",
    "\n",
    "to_fill = df['Bathroom'].mean()\n",
    "\n",
    "df['Bathroom'].fillna(int(to_fill),inplace = True)"
   ]
  },
  {
   "cell_type": "markdown",
   "id": "02dc1db7",
   "metadata": {},
   "source": [
    "Bedroom"
   ]
  },
  {
   "cell_type": "code",
   "execution_count": 7,
   "id": "430c0094",
   "metadata": {},
   "outputs": [],
   "source": [
    "df['Bedroom'] = pd.to_numeric(df['Bedroom'], errors='coerce')\n",
    "\n",
    "to_fill = df['Bedroom'].mean()\n",
    "\n",
    "df['Bedroom'].fillna(int(to_fill),inplace = True)"
   ]
  },
  {
   "cell_type": "markdown",
   "id": "9a2e8873",
   "metadata": {},
   "source": [
    "Garden"
   ]
  },
  {
   "cell_type": "code",
   "execution_count": 8,
   "id": "e766d7ae",
   "metadata": {},
   "outputs": [],
   "source": [
    "df['Garden']=df['Garden'].astype(str)+'_'+df['Gardens'].astype(str)\n",
    "df['Garden'] = df['Garden'].replace(to_replace ='nan_nan',value ='', regex=True)\n",
    "df['Garden'] = df['Garden'].replace(to_replace ='nan_',value ='', regex=True)\n",
    "df['Garden'] = df['Garden'].replace(to_replace ='_nan',value ='', regex=True)\n",
    "df['Garden'] = df['Garden'].replace(to_replace ='',value ='null', regex=True)"
   ]
  },
  {
   "cell_type": "code",
   "execution_count": 9,
   "id": "84e34b24",
   "metadata": {},
   "outputs": [],
   "source": [
    "to_fill = 1\n",
    "df['Garden'] = df['Garden'].replace(to_replace ='null',value =0.0, regex=True)\n",
    "df['Garden'] = pd.to_numeric(df['Garden'], errors='coerce')\n",
    "df['Garden'].fillna(int(to_fill),inplace = True)"
   ]
  },
  {
   "cell_type": "markdown",
   "id": "edb46334",
   "metadata": {},
   "source": [
    "Pool"
   ]
  },
  {
   "cell_type": "code",
   "execution_count": 10,
   "id": "3caf95eb",
   "metadata": {},
   "outputs": [],
   "source": [
    "df['Pool']=df['Pool'].astype(str)+'_'+df['Pools'].astype(str)\n",
    "df['Pool'] = df['Pool'].replace(to_replace ='nan_nan',value ='', regex=True)\n",
    "df['Pool'] = df['Pool'].replace(to_replace ='nan_',value ='', regex=True)\n",
    "df['Pool'] = df['Pool'].replace(to_replace ='_nan',value ='', regex=True)\n",
    "df['Pool'] = df['Pool'].replace(to_replace ='',value ='null', regex=True)"
   ]
  },
  {
   "cell_type": "code",
   "execution_count": 11,
   "id": "e30a3f90",
   "metadata": {},
   "outputs": [],
   "source": [
    "to_fill = 1\n",
    "df['Pool'] = df['Pool'].replace(to_replace ='null',value =0.0, regex=True)\n",
    "df['Pool'] = pd.to_numeric(df['Pool'], errors='coerce')\n",
    "df['Pool'].fillna(int(to_fill),inplace = True)"
   ]
  },
  {
   "cell_type": "markdown",
   "id": "4bf0eb72",
   "metadata": {},
   "source": [
    "Kitchen"
   ]
  },
  {
   "cell_type": "code",
   "execution_count": 12,
   "id": "c05b1e26",
   "metadata": {},
   "outputs": [],
   "source": [
    "df['Kitchen']=df['Kitchen'].astype(str)+'_'+df['Kitchens'].astype(str)\n",
    "df['Kitchen'] = df['Kitchen'].replace(to_replace ='nan_nan',value ='', regex=True)\n",
    "df['Kitchen'] = df['Kitchen'].replace(to_replace ='nan_',value ='', regex=True)\n",
    "df['Kitchen'] = df['Kitchen'].replace(to_replace ='_nan',value ='', regex=True)\n",
    "df['Kitchen'] = df['Kitchen'].replace(to_replace ='',value ='null', regex=True)"
   ]
  },
  {
   "cell_type": "code",
   "execution_count": 13,
   "id": "1b1ad7f1",
   "metadata": {},
   "outputs": [],
   "source": [
    "df['Kitchen'] = df['Kitchen'].replace(to_replace ='null',value =0.0, regex=True)\n",
    "df['Kitchen'] = pd.to_numeric(df['Kitchen'], errors='coerce')\n",
    "to_fill = df['Kitchen'].mean()\n",
    "df['Kitchen'].fillna(int(to_fill),inplace = True)"
   ]
  },
  {
   "cell_type": "markdown",
   "id": "4923ca51",
   "metadata": {},
   "source": [
    "Floor Size"
   ]
  },
  {
   "cell_type": "code",
   "execution_count": 14,
   "id": "4adf76f0",
   "metadata": {},
   "outputs": [],
   "source": [
    "df[['q', 'p']] = df['Floor Size'].str.split(' ', n=1, expand=True)\n",
    "df['p'] = df['p'].fillna(1.0)\n",
    "df['q'] = pd.to_numeric(df.q, errors='coerce')\n",
    "df['p'] = df['p'].replace(to_replace =\"ha\",value =10000.0, regex=True) \n",
    "df['p'] = pd.to_numeric(df.p, errors='coerce')\n",
    "df['p'] = df['p'].fillna(1.0)\n",
    "df['q'] = df['q'].fillna(0.0)\n",
    "df['Floor Size']=df['p']*df['q']\n",
    "df['Floor Size'] = df['Floor Size'].replace(to_replace =0.0,value =np.NaN, regex=True)\n",
    "to_fill = df['Floor Size'].mean()\n",
    "df['Floor Size'].fillna(int(to_fill),inplace = True)"
   ]
  },
  {
   "cell_type": "markdown",
   "id": "e3e6e40c",
   "metadata": {},
   "source": [
    "Erf Size"
   ]
  },
  {
   "cell_type": "code",
   "execution_count": 15,
   "id": "28665b0d",
   "metadata": {},
   "outputs": [],
   "source": [
    "df[['q', 'p']] = df['Erf Size'].str.split(' ', n=1, expand=True)\n",
    "df['p'] = df['p'].fillna(1.0)\n",
    "df['q'] = pd.to_numeric(df.q, errors='coerce')\n",
    "df['p'] = df['p'].replace(to_replace =\"ha\",value =10000.0, regex=True) \n",
    "df['p'] = pd.to_numeric(df.p, errors='coerce')\n",
    "df['p'] = df['p'].fillna(1.0)\n",
    "df['q'] = df['q'].fillna(0.0)\n",
    "df['Erf Size']=df['p']*df['q']\n",
    "df['Erf Size'] = df['Erf Size'].replace(to_replace =0.0,value =np.NaN, regex=True)\n",
    "to_fill = df['Erf Size'].mean()\n",
    "df['Erf Size'].fillna(int(to_fill),inplace = True)"
   ]
  },
  {
   "cell_type": "markdown",
   "id": "279f2039",
   "metadata": {},
   "source": [
    "Pets Allowed"
   ]
  },
  {
   "cell_type": "code",
   "execution_count": 16,
   "id": "5f84e179",
   "metadata": {},
   "outputs": [],
   "source": [
    "column_name = \"Pets Allowed\"\n",
    "\n",
    "#get the mod of the column\n",
    "mod = df[column_name].mode()[0]\n",
    "\n",
    "\n",
    "#fill unknown values with the mean of kown value\n",
    "df[column_name].fillna(mod, inplace = True)\n",
    "\n",
    "#turn yes or no into binary value\n",
    "df[column_name].replace([\"Yes\",\"No\"],[1,0],inplace=True)"
   ]
  },
  {
   "cell_type": "markdown",
   "id": "96961e87",
   "metadata": {},
   "source": [
    "Garage"
   ]
  },
  {
   "cell_type": "code",
   "execution_count": 17,
   "id": "16e971d9",
   "metadata": {},
   "outputs": [],
   "source": [
    "df['Garage'].fillna(0.0,inplace = True)\n",
    "df['Garage'] = pd.to_numeric(df['Garage'], errors='coerce')\n",
    "df['Garage'].fillna(1.0,inplace = True)"
   ]
  },
  {
   "cell_type": "markdown",
   "id": "af1f52bf",
   "metadata": {},
   "source": [
    "Parking"
   ]
  },
  {
   "cell_type": "code",
   "execution_count": 18,
   "id": "3018e6b5",
   "metadata": {},
   "outputs": [],
   "source": [
    "df['Parking'].fillna(0.0,inplace = True)\n",
    "df['Parking'] = pd.to_numeric(df['Parking'], errors='coerce')\n",
    "df['Parking'].fillna(1.0,inplace = True)"
   ]
  },
  {
   "cell_type": "markdown",
   "id": "4cd20f37",
   "metadata": {},
   "source": [
    "Lounge"
   ]
  },
  {
   "cell_type": "code",
   "execution_count": 19,
   "id": "b2a21479",
   "metadata": {},
   "outputs": [],
   "source": [
    "df['Lounge'].fillna(0.0,inplace = True)\n",
    "df['Lounge'] = pd.to_numeric(df['Lounge'], errors='coerce')\n",
    "df['Lounge'].fillna(1.0,inplace = True)"
   ]
  },
  {
   "cell_type": "markdown",
   "id": "ab179502",
   "metadata": {},
   "source": [
    "Rates and Taxes"
   ]
  },
  {
   "cell_type": "code",
   "execution_count": 20,
   "id": "1f2ea723",
   "metadata": {},
   "outputs": [],
   "source": [
    "df[['q', 'p']] = df['Rates and Taxes'].str.split(' ', n=1, expand=True)\n",
    "df['p'] = df['p'].replace(to_replace =' ',value ='', regex=True)\n",
    "df['Rates and Taxes'] = df['p']\n",
    "\n",
    "df['Rates and Taxes'] = pd.to_numeric(df['Rates and Taxes'], errors='coerce')\n",
    "\n",
    "to_fill = df['Rates and Taxes'].mean()\n",
    "\n",
    "df['Rates and Taxes'].fillna(int(to_fill),inplace = True)"
   ]
  },
  {
   "cell_type": "markdown",
   "id": "e40d09ac",
   "metadata": {},
   "source": [
    "Levies"
   ]
  },
  {
   "cell_type": "code",
   "execution_count": 21,
   "id": "b2582e8b",
   "metadata": {},
   "outputs": [],
   "source": [
    "df[['q', 'p']] = df['Levies'].str.split(' ', n=1, expand=True)\n",
    "df['p'] = df['p'].replace(to_replace =' ',value ='', regex=True)\n",
    "df['Levies'] = df['p']\n",
    "\n",
    "df['Levies'] = pd.to_numeric(df['Levies'], errors='coerce')\n",
    "\n",
    "to_fill = df['Levies'].mean()\n",
    "\n",
    "df['Levies'].fillna(int(to_fill),inplace = True)"
   ]
  },
  {
   "cell_type": "markdown",
   "id": "b8cbca00",
   "metadata": {},
   "source": [
    "Types"
   ]
  },
  {
   "cell_type": "code",
   "execution_count": 22,
   "id": "d8a5c7f6",
   "metadata": {},
   "outputs": [],
   "source": [
    "column_name = \"Type of Property\"\n",
    "\n",
    "#turn it's content into binary value\n",
    "df[column_name].replace([\"House\",\"Apartment / Flat\",\"Townhouse\"],[0,1,2],inplace=True)"
   ]
  },
  {
   "cell_type": "markdown",
   "id": "b7197a5c",
   "metadata": {},
   "source": [
    "Modify price to contain only numeric value"
   ]
  },
  {
   "cell_type": "code",
   "execution_count": 28,
   "id": "fb860507",
   "metadata": {},
   "outputs": [
    {
     "ename": "ValueError",
     "evalue": "invalid literal for int() with base 10: ''",
     "output_type": "error",
     "traceback": [
      "\u001b[0;31m---------------------------------------------------------------------------\u001b[0m",
      "\u001b[0;31mValueError\u001b[0m                                Traceback (most recent call last)",
      "\u001b[0;32m<ipython-input-28-3afb2b0b867a>\u001b[0m in \u001b[0;36m<module>\u001b[0;34m\u001b[0m\n\u001b[1;32m      6\u001b[0m     \u001b[0;32mdel\u001b[0m \u001b[0mcol_array\u001b[0m\u001b[0;34m[\u001b[0m\u001b[0;36m0\u001b[0m\u001b[0;34m]\u001b[0m\u001b[0;34m\u001b[0m\u001b[0;34m\u001b[0m\u001b[0m\n\u001b[1;32m      7\u001b[0m     \u001b[0mcol_val\u001b[0m\u001b[0;34m=\u001b[0m \u001b[0;34m''\u001b[0m\u001b[0;34m.\u001b[0m\u001b[0mjoin\u001b[0m\u001b[0;34m(\u001b[0m\u001b[0mcol_array\u001b[0m\u001b[0;34m)\u001b[0m\u001b[0;34m\u001b[0m\u001b[0;34m\u001b[0m\u001b[0m\n\u001b[0;32m----> 8\u001b[0;31m     \u001b[0mdf\u001b[0m\u001b[0;34m[\u001b[0m\u001b[0mcolumn_name\u001b[0m\u001b[0;34m]\u001b[0m\u001b[0;34m.\u001b[0m\u001b[0mreplace\u001b[0m\u001b[0;34m(\u001b[0m\u001b[0mcol\u001b[0m\u001b[0;34m,\u001b[0m\u001b[0mint\u001b[0m\u001b[0;34m(\u001b[0m\u001b[0mcol_val\u001b[0m\u001b[0;34m)\u001b[0m\u001b[0;34m,\u001b[0m\u001b[0minplace\u001b[0m \u001b[0;34m=\u001b[0m \u001b[0;32mTrue\u001b[0m\u001b[0;34m)\u001b[0m\u001b[0;34m\u001b[0m\u001b[0;34m\u001b[0m\u001b[0m\n\u001b[0m",
      "\u001b[0;31mValueError\u001b[0m: invalid literal for int() with base 10: ''"
     ]
    }
   ],
   "source": [
    "column_name =\"price\"\n",
    "col_value = df[column_name].values\n",
    "for col in col_value:\n",
    "    col_string = str(col)\n",
    "    col_array = col_string.split(\" \")\n",
    "    del col_array[0]\n",
    "    col_val= ''.join(col_array)\n",
    "    df[column_name].replace(col,int(col_val),inplace = True)"
   ]
  },
  {
   "cell_type": "markdown",
   "id": "6a7c53b2",
   "metadata": {},
   "source": [
    "# Final"
   ]
  },
  {
   "cell_type": "code",
   "execution_count": 30,
   "id": "f5049164",
   "metadata": {},
   "outputs": [],
   "source": [
    "#drop duplicated rows\n",
    "df.drop_duplicates(keep = 'first', inplace=True)    "
   ]
  },
  {
   "cell_type": "code",
   "execution_count": 31,
   "id": "af6fbf85",
   "metadata": {},
   "outputs": [
    {
     "ename": "ValueError",
     "evalue": "labels ['Listing Number' 'Listing Date'] not contained in axis",
     "output_type": "error",
     "traceback": [
      "\u001b[0;31m---------------------------------------------------------------------------\u001b[0m",
      "\u001b[0;31mValueError\u001b[0m                                Traceback (most recent call last)",
      "\u001b[0;32m<ipython-input-31-6fb99e9f7796>\u001b[0m in \u001b[0;36m<module>\u001b[0;34m\u001b[0m\n\u001b[1;32m     12\u001b[0m         \u001b[0mcol_to_drop\u001b[0m\u001b[0;34m.\u001b[0m\u001b[0mappend\u001b[0m\u001b[0;34m(\u001b[0m\u001b[0mcol\u001b[0m\u001b[0;34m)\u001b[0m\u001b[0;34m\u001b[0m\u001b[0;34m\u001b[0m\u001b[0m\n\u001b[1;32m     13\u001b[0m \u001b[0;34m\u001b[0m\u001b[0m\n\u001b[0;32m---> 14\u001b[0;31m \u001b[0mdf\u001b[0m\u001b[0;34m.\u001b[0m\u001b[0mdrop\u001b[0m\u001b[0;34m(\u001b[0m\u001b[0mcol_to_drop\u001b[0m\u001b[0;34m,\u001b[0m\u001b[0minplace\u001b[0m\u001b[0;34m=\u001b[0m\u001b[0;32mTrue\u001b[0m\u001b[0;34m,\u001b[0m\u001b[0maxis\u001b[0m\u001b[0;34m=\u001b[0m\u001b[0;36m1\u001b[0m\u001b[0;34m)\u001b[0m\u001b[0;34m\u001b[0m\u001b[0;34m\u001b[0m\u001b[0m\n\u001b[0m",
      "\u001b[0;32m/usr/lib/python3/dist-packages/pandas/core/generic.py\u001b[0m in \u001b[0;36mdrop\u001b[0;34m(self, labels, axis, index, columns, level, inplace, errors)\u001b[0m\n\u001b[1;32m   2528\u001b[0m         \u001b[0;32mfor\u001b[0m \u001b[0maxis\u001b[0m\u001b[0;34m,\u001b[0m \u001b[0mlabels\u001b[0m \u001b[0;32min\u001b[0m \u001b[0maxes\u001b[0m\u001b[0;34m.\u001b[0m\u001b[0mitems\u001b[0m\u001b[0;34m(\u001b[0m\u001b[0;34m)\u001b[0m\u001b[0;34m:\u001b[0m\u001b[0;34m\u001b[0m\u001b[0;34m\u001b[0m\u001b[0m\n\u001b[1;32m   2529\u001b[0m             \u001b[0;32mif\u001b[0m \u001b[0mlabels\u001b[0m \u001b[0;32mis\u001b[0m \u001b[0;32mnot\u001b[0m \u001b[0;32mNone\u001b[0m\u001b[0;34m:\u001b[0m\u001b[0;34m\u001b[0m\u001b[0;34m\u001b[0m\u001b[0m\n\u001b[0;32m-> 2530\u001b[0;31m                 \u001b[0mobj\u001b[0m \u001b[0;34m=\u001b[0m \u001b[0mobj\u001b[0m\u001b[0;34m.\u001b[0m\u001b[0m_drop_axis\u001b[0m\u001b[0;34m(\u001b[0m\u001b[0mlabels\u001b[0m\u001b[0;34m,\u001b[0m \u001b[0maxis\u001b[0m\u001b[0;34m,\u001b[0m \u001b[0mlevel\u001b[0m\u001b[0;34m=\u001b[0m\u001b[0mlevel\u001b[0m\u001b[0;34m,\u001b[0m \u001b[0merrors\u001b[0m\u001b[0;34m=\u001b[0m\u001b[0merrors\u001b[0m\u001b[0;34m)\u001b[0m\u001b[0;34m\u001b[0m\u001b[0;34m\u001b[0m\u001b[0m\n\u001b[0m\u001b[1;32m   2531\u001b[0m \u001b[0;34m\u001b[0m\u001b[0m\n\u001b[1;32m   2532\u001b[0m         \u001b[0;32mif\u001b[0m \u001b[0minplace\u001b[0m\u001b[0;34m:\u001b[0m\u001b[0;34m\u001b[0m\u001b[0;34m\u001b[0m\u001b[0m\n",
      "\u001b[0;32m/usr/lib/python3/dist-packages/pandas/core/generic.py\u001b[0m in \u001b[0;36m_drop_axis\u001b[0;34m(self, labels, axis, level, errors)\u001b[0m\n\u001b[1;32m   2560\u001b[0m                 \u001b[0mnew_axis\u001b[0m \u001b[0;34m=\u001b[0m \u001b[0maxis\u001b[0m\u001b[0;34m.\u001b[0m\u001b[0mdrop\u001b[0m\u001b[0;34m(\u001b[0m\u001b[0mlabels\u001b[0m\u001b[0;34m,\u001b[0m \u001b[0mlevel\u001b[0m\u001b[0;34m=\u001b[0m\u001b[0mlevel\u001b[0m\u001b[0;34m,\u001b[0m \u001b[0merrors\u001b[0m\u001b[0;34m=\u001b[0m\u001b[0merrors\u001b[0m\u001b[0;34m)\u001b[0m\u001b[0;34m\u001b[0m\u001b[0;34m\u001b[0m\u001b[0m\n\u001b[1;32m   2561\u001b[0m             \u001b[0;32melse\u001b[0m\u001b[0;34m:\u001b[0m\u001b[0;34m\u001b[0m\u001b[0;34m\u001b[0m\u001b[0m\n\u001b[0;32m-> 2562\u001b[0;31m                 \u001b[0mnew_axis\u001b[0m \u001b[0;34m=\u001b[0m \u001b[0maxis\u001b[0m\u001b[0;34m.\u001b[0m\u001b[0mdrop\u001b[0m\u001b[0;34m(\u001b[0m\u001b[0mlabels\u001b[0m\u001b[0;34m,\u001b[0m \u001b[0merrors\u001b[0m\u001b[0;34m=\u001b[0m\u001b[0merrors\u001b[0m\u001b[0;34m)\u001b[0m\u001b[0;34m\u001b[0m\u001b[0;34m\u001b[0m\u001b[0m\n\u001b[0m\u001b[1;32m   2563\u001b[0m             \u001b[0mdropped\u001b[0m \u001b[0;34m=\u001b[0m \u001b[0mself\u001b[0m\u001b[0;34m.\u001b[0m\u001b[0mreindex\u001b[0m\u001b[0;34m(\u001b[0m\u001b[0;34m**\u001b[0m\u001b[0;34m{\u001b[0m\u001b[0maxis_name\u001b[0m\u001b[0;34m:\u001b[0m \u001b[0mnew_axis\u001b[0m\u001b[0;34m}\u001b[0m\u001b[0;34m)\u001b[0m\u001b[0;34m\u001b[0m\u001b[0;34m\u001b[0m\u001b[0m\n\u001b[1;32m   2564\u001b[0m             \u001b[0;32mtry\u001b[0m\u001b[0;34m:\u001b[0m\u001b[0;34m\u001b[0m\u001b[0;34m\u001b[0m\u001b[0m\n",
      "\u001b[0;32m/usr/lib/python3/dist-packages/pandas/core/indexes/base.py\u001b[0m in \u001b[0;36mdrop\u001b[0;34m(self, labels, errors)\u001b[0m\n\u001b[1;32m   3742\u001b[0m             \u001b[0;32mif\u001b[0m \u001b[0merrors\u001b[0m \u001b[0;34m!=\u001b[0m \u001b[0;34m'ignore'\u001b[0m\u001b[0;34m:\u001b[0m\u001b[0;34m\u001b[0m\u001b[0;34m\u001b[0m\u001b[0m\n\u001b[1;32m   3743\u001b[0m                 raise ValueError('labels %s not contained in axis' %\n\u001b[0;32m-> 3744\u001b[0;31m                                  labels[mask])\n\u001b[0m\u001b[1;32m   3745\u001b[0m             \u001b[0mindexer\u001b[0m \u001b[0;34m=\u001b[0m \u001b[0mindexer\u001b[0m\u001b[0;34m[\u001b[0m\u001b[0;34m~\u001b[0m\u001b[0mmask\u001b[0m\u001b[0;34m]\u001b[0m\u001b[0;34m\u001b[0m\u001b[0;34m\u001b[0m\u001b[0m\n\u001b[1;32m   3746\u001b[0m         \u001b[0;32mreturn\u001b[0m \u001b[0mself\u001b[0m\u001b[0;34m.\u001b[0m\u001b[0mdelete\u001b[0m\u001b[0;34m(\u001b[0m\u001b[0mindexer\u001b[0m\u001b[0;34m)\u001b[0m\u001b[0;34m\u001b[0m\u001b[0;34m\u001b[0m\u001b[0m\n",
      "\u001b[0;31mValueError\u001b[0m: labels ['Listing Number' 'Listing Date'] not contained in axis"
     ]
    }
   ],
   "source": [
    "col_to_drop = [\"Listing Number\",\"Listing Date\"]\n",
    "\n",
    "#Drop column with missing value>2%\n",
    "for col in df.columns:\n",
    "    pct_missing = np.mean(df[col].isnull())\n",
    "    if(pct_missing*100>2):\n",
    "        col_to_drop.append(col)\n",
    "        \n",
    "#Drop column with the same unique value inside\n",
    "for col in df.columns:\n",
    "    if len(df[col].unique()) == 1:\n",
    "        col_to_drop.append(col)\n",
    "        \n",
    "df.drop(col_to_drop,inplace=True,axis=1)"
   ]
  },
  {
   "cell_type": "code",
   "execution_count": 38,
   "id": "9884f9df",
   "metadata": {},
   "outputs": [],
   "source": [
    "#save the cleaned data into csv file\n",
    "column_name = \"price\"\n",
    "df1 = df[df[column_name].apply(lambda x: str(x).isdigit())]\n",
    "df1.to_csv(\"../data/cleaned_data.csv\",index=False)"
   ]
  },
  {
   "cell_type": "code",
   "execution_count": null,
   "id": "809a21d1",
   "metadata": {},
   "outputs": [],
   "source": []
  }
 ],
 "metadata": {
  "kernelspec": {
   "display_name": "Python 3",
   "language": "python",
   "name": "python3"
  },
  "language_info": {
   "codemirror_mode": {
    "name": "ipython",
    "version": 3
   },
   "file_extension": ".py",
   "mimetype": "text/x-python",
   "name": "python",
   "nbconvert_exporter": "python",
   "pygments_lexer": "ipython3",
   "version": "3.6.9"
  }
 },
 "nbformat": 4,
 "nbformat_minor": 5
}
