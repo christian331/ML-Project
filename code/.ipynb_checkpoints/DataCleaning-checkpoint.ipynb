{
 "cells": [
  {
   "cell_type": "code",
   "execution_count": 1,
   "metadata": {},
   "outputs": [],
   "source": [
    "import pandas as pd\n",
    "import numpy as np"
   ]
  },
  {
   "cell_type": "code",
   "execution_count": 16,
   "metadata": {},
   "outputs": [
    {
     "name": "stderr",
     "output_type": "stream",
     "text": [
      "C:\\Users\\ASUS\\anaconda3\\lib\\site-packages\\IPython\\core\\interactiveshell.py:3146: DtypeWarning: Columns (8,26,78,88,94,98,105,113,116,117,125,126,127,128,129,130,131,133,134,135,136,137,138,139,140,146,147,149,150,153,154,156,157,158,159,160,161,162,163,166,167,169,170,171,172,173,174,175,176,181,182,183,184,185,186,187,188,189,190,191,192,193,194,195,196,197,198,199,200,201,202,203,204,205,206,207,208,209,210,211,212,213,214,215,216,217,218,219,220,221,222,223,224,225,226,227,228,229,230,231,232,233,234,235,236,237,238,239,240,241,242,243,244,245,246,247,248,249,250,251,252,253,254,255,256,257,258,259,260,261,262,263,264,265,266,267,268,269,270,271,272,273,274,275,276,277,278,279,280,281,282) have mixed types.Specify dtype option on import or set low_memory=False.\n",
      "  has_raised = await self.run_ast_nodes(code_ast.body, cell_name,\n"
     ]
    },
    {
     "name": "stdout",
     "output_type": "stream",
     "text": [
      "771\n"
     ]
    }
   ],
   "source": [
    "df_tsiry = pd.read_csv('big_data.csv')\n",
    "df_zo = pd.read_csv('../data/all_data.csv')\n",
    "df_tsiry.head()\n",
    "df_zo.head()\n",
    "\n",
    "list_zo = df_zo['Listing Number'].size()\n",
    "list_tsiry = df_tsiry['Listing Number']\n",
    "\n",
    "nb_trouve = 0\n",
    "\n",
    "for j in range(np.shape(list_zo)[0]):\n",
    "    id_compare = list_zo[j]\n",
    "    find = False\n",
    "    \n",
    "    for i in range(np.shape(list_tsiry)[0]):\n",
    "        if list_[i] == id_compare:\n",
    "            find = True\n",
    "            break\n",
    "        \n",
    "    if find:\n",
    "        nb_trouve += 1\n",
    "\n",
    "print(nb_trouve)\n",
    "        \n"
   ]
  },
  {
   "cell_type": "code",
   "execution_count": null,
   "metadata": {},
   "outputs": [],
   "source": []
  }
 ],
 "metadata": {
  "kernelspec": {
   "display_name": "Python 3",
   "language": "python",
   "name": "python3"
  },
  "language_info": {
   "codemirror_mode": {
    "name": "ipython",
    "version": 3
   },
   "file_extension": ".py",
   "mimetype": "text/x-python",
   "name": "python",
   "nbconvert_exporter": "python",
   "pygments_lexer": "ipython3",
   "version": "3.8.5"
  }
 },
 "nbformat": 4,
 "nbformat_minor": 4
}
